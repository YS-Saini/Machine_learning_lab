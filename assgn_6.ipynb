{
  "nbformat": 4,
  "nbformat_minor": 0,
  "metadata": {
    "colab": {
      "provenance": [],
      "authorship_tag": "ABX9TyN45YoNJXaPK5lltoj4Abmi",
      "include_colab_link": true
    },
    "kernelspec": {
      "name": "python3",
      "display_name": "Python 3"
    },
    "language_info": {
      "name": "python"
    }
  },
  "cells": [
    {
      "cell_type": "markdown",
      "metadata": {
        "id": "view-in-github",
        "colab_type": "text"
      },
      "source": [
        "<a href=\"https://colab.research.google.com/github/YS-Saini/Machine_learning_lab/blob/main/assgn_6.ipynb\" target=\"_parent\"><img src=\"https://colab.research.google.com/assets/colab-badge.svg\" alt=\"Open In Colab\"/></a>"
      ]
    },
    {
      "cell_type": "code",
      "execution_count": 3,
      "metadata": {
        "id": "rHKnZNxdlxAt"
      },
      "outputs": [],
      "source": [
        "import numpy as np\n",
        "import pandas as pd\n",
        "from sklearn.datasets import load_iris\n",
        "from sklearn.model_selection import train_test_split\n",
        "from sklearn.preprocessing import StandardScaler\n",
        "\n",
        "# Load the dataset\n",
        "iris = load_iris()\n",
        "X, y = iris.data, iris.target\n",
        "\n",
        "# Split the data into training and testing sets\n",
        "X_train, X_test, y_train, y_test = train_test_split(X, y, test_size=0.3, random_state=42)\n"
      ]
    },
    {
      "cell_type": "code",
      "source": [
        "class GaussianNaiveBayes:\n",
        "    def fit(self, X_train, y_train):\n",
        "        n_samples, n_features = X_train.shape\n",
        "        self.classes = np.unique(y_train)\n",
        "        n_classes = len(self.classes)\n",
        "\n",
        "        # Mean, variance, and prior probability for each class\n",
        "        self.mean = np.zeros((n_classes, n_features), dtype=np.float64)\n",
        "        self.var = np.zeros((n_classes, n_features), dtype=np.float64)\n",
        "        self.priors = np.zeros(n_classes, dtype=np.float64)\n",
        "\n",
        "        for idx, cls in enumerate(self.classes):\n",
        "            X_c = X_train[y_train == cls]\n",
        "            self.mean[idx, :] = X_c.mean(axis=0)\n",
        "            self.var[idx, :] = X_c.var(axis=0)\n",
        "            self.priors[idx] = X_c.shape[0] / float(n_samples)\n",
        "\n",
        "    def _calculate_likelihood(self, class_idx, x):\n",
        "        mean = self.mean[class_idx]\n",
        "        var = self.var[class_idx]\n",
        "        numerator = np.exp(-(x - mean) ** 2 / (2 * var))\n",
        "        denominator = np.sqrt(2 * np.pi * var)\n",
        "        return numerator / denominator\n",
        "\n",
        "    def _calculate_posterior(self, x):\n",
        "        posteriors = []\n",
        "        for idx, cls in enumerate(self.classes):\n",
        "            prior = np.log(self.priors[idx])\n",
        "            class_likelihood = np.sum(np.log(self._calculate_likelihood(idx, x)))\n",
        "            posterior = prior + class_likelihood\n",
        "            posteriors.append(posterior)\n",
        "        return self.classes[np.argmax(posteriors)]\n",
        "\n",
        "    def predict(self, X):\n",
        "        y_pred = [self._calculate_posterior(x) for x in X]\n",
        "        return np.array(y_pred)\n",
        "\n",
        "# Train the model\n",
        "gnb = GaussianNaiveBayes()\n",
        "gnb.fit(X_train, y_train)\n",
        "\n",
        "# Predict on the test set\n",
        "y_pred = gnb.predict(X_test)\n",
        "\n",
        "# Calculate accuracy\n",
        "accuracy = np.sum(y_pred == y_test) / len(y_test)\n",
        "print(f\"Accuracy (Step-by-Step): {accuracy * 100:.2f}%\")\n"
      ],
      "metadata": {
        "colab": {
          "base_uri": "https://localhost:8080/"
        },
        "id": "r7xQE1PSmCsQ",
        "outputId": "3507abc2-3ef6-4c55-8949-ac9a8ecb2dbf"
      },
      "execution_count": 4,
      "outputs": [
        {
          "output_type": "stream",
          "name": "stdout",
          "text": [
            "Accuracy (Step-by-Step): 97.78%\n"
          ]
        }
      ]
    },
    {
      "cell_type": "code",
      "source": [
        "from sklearn.naive_bayes import GaussianNB\n",
        "from sklearn.metrics import accuracy_score\n",
        "\n",
        "# Initialize Gaussian Naive Bayes Classifier\n",
        "gnb_builtin = GaussianNB()\n",
        "\n",
        "# Fit the model\n",
        "gnb_builtin.fit(X_train, y_train)\n",
        "\n",
        "# Predict on the test set\n",
        "y_pred_builtin = gnb_builtin.predict(X_test)\n",
        "\n",
        "# Calculate accuracy\n",
        "accuracy_builtin = accuracy_score(y_test, y_pred_builtin)\n",
        "print(f\"Accuracy (In-Built): {accuracy_builtin * 100:.2f}%\")\n",
        "\n"
      ],
      "metadata": {
        "colab": {
          "base_uri": "https://localhost:8080/"
        },
        "id": "qDiihw3Lmj-I",
        "outputId": "4e889459-55ee-4e1f-e79d-b0258b55ca3c"
      },
      "execution_count": 5,
      "outputs": [
        {
          "output_type": "stream",
          "name": "stdout",
          "text": [
            "Accuracy (In-Built): 97.78%\n"
          ]
        }
      ]
    }
  ]
}
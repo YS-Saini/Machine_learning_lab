{
  "nbformat": 4,
  "nbformat_minor": 0,
  "metadata": {
    "colab": {
      "provenance": []
    },
    "kernelspec": {
      "name": "python3",
      "display_name": "Python 3"
    },
    "language_info": {
      "name": "python"
    }
  },
  "cells": [
    {
      "cell_type": "markdown",
      "source": [
        "Q1: Questions on Basic NumPy Array\n",
        "(a) Reverse the NumPy array: arr = np.array([1, 2, 3, 6, 4, 5])"
      ],
      "metadata": {
        "id": "Pg8x7cHVAk4K"
      }
    },
    {
      "cell_type": "code",
      "source": [
        "import numpy as np\n",
        "\n",
        "arr = np.array([1, 2, 3, 6, 4, 5])\n",
        "\n",
        "reversed_arr = arr[::-1]\n",
        "\n",
        "print(reversed_arr)"
      ],
      "metadata": {
        "colab": {
          "base_uri": "https://localhost:8080/"
        },
        "id": "qUQd8HvAAzT8",
        "outputId": "1fafbea2-9460-43ee-b50b-aef2d7b32aff"
      },
      "execution_count": null,
      "outputs": [
        {
          "output_type": "stream",
          "name": "stdout",
          "text": [
            "[5 4 6 3 2 1]\n"
          ]
        }
      ]
    },
    {
      "cell_type": "markdown",
      "source": [
        "  (b) Flatten the NumPy arr: array1 = np.array([[1, 2, 3], [2, 4, 5], [1, 2, 3]]) using any two\n",
        "NumPy in-built methods\n"
      ],
      "metadata": {
        "id": "loKY_75eA3CJ"
      }
    },
    {
      "cell_type": "code",
      "execution_count": null,
      "metadata": {
        "colab": {
          "base_uri": "https://localhost:8080/"
        },
        "id": "Kw3ahq5TAfJ6",
        "outputId": "e21dc20d-67ff-4d03-af77-ba96f18079ae"
      },
      "outputs": [
        {
          "output_type": "stream",
          "name": "stdout",
          "text": [
            "[1 2 3 2 4 5 1 2 3]\n",
            "[1 2 3 2 4 5 1 2 3]\n"
          ]
        }
      ],
      "source": [
        "import numpy as np\n",
        "\n",
        "# Define the 2D array\n",
        "array1 = np.array([[1, 2, 3], [2, 4, 5], [1, 2, 3]])\n",
        "\n",
        "# Flatten the array using the flatten() method\n",
        "flattened_array1 = array1.flatten()\n",
        "\n",
        "print(flattened_array1)\n",
        "\n",
        "array1 = np.array([[1, 2, 3], [2, 4, 5], [1, 2, 3]])\n",
        "\n",
        "# Flatten the array using the ravel() method\n",
        "flattened_array2 = array1.ravel()\n",
        "\n",
        "print(flattened_array2)"
      ]
    },
    {
      "cell_type": "markdown",
      "source": [
        "(d) Find the most frequent value and their indice(s) in the following arrays:\n",
        "i. x = np.array([1,2,3,4,5,1,2,1,1,1])\n",
        "ii. y = np.array([1, 1, 1, 2, 3, 4, 2, 4, 3, 3, ])\n"
      ],
      "metadata": {
        "id": "CGkiMdr5BCCZ"
      }
    },
    {
      "cell_type": "code",
      "source": [
        "import numpy as np\n",
        "\n",
        "# Define the array\n",
        "x = np.array([1, 2, 3, 4, 5, 1, 2, 1, 1, 1])\n",
        "\n",
        "# Find the most frequent value\n",
        "unique, counts = np.unique(x, return_counts=True)\n",
        "most_frequent_value = unique[np.argmax(counts)]\n",
        "\n",
        "# Find the indices of the most frequent value\n",
        "indices = np.where(x == most_frequent_value)[0]\n",
        "\n",
        "print(\"Most frequent value in x:\", most_frequent_value)\n",
        "print(\"Indices of the most frequent value in x:\", indices)"
      ],
      "metadata": {
        "colab": {
          "base_uri": "https://localhost:8080/"
        },
        "id": "Y21LyveyBBK5",
        "outputId": "54a4cbfc-a278-44cb-b505-db9d4682da8f"
      },
      "execution_count": null,
      "outputs": [
        {
          "output_type": "stream",
          "name": "stdout",
          "text": [
            "Most frequent value in x: 1\n",
            "Indices of the most frequent value in x: [0 5 7 8 9]\n"
          ]
        }
      ]
    },
    {
      "cell_type": "markdown",
      "source": [
        "(e) For the array gfg = np.matrix('[4, 1, 9; 12, 3, 1; 4, 5, 6]'), find\n",
        "i. Sum of all elements\n",
        "ii. Sum of all elements row-wise\n",
        "iii. Sum of all elements column-wise\n"
      ],
      "metadata": {
        "id": "65PRJb-mD6XP"
      }
    },
    {
      "cell_type": "code",
      "source": [
        "import numpy as np\n",
        "\n",
        "# Define the matrix\n",
        "gfg = np.matrix('[4, 1, 9; 12, 3, 1; 4, 5, 6]')\n",
        "\n",
        "# i. Sum of all elements\n",
        "sum_all_elements = np.sum(gfg)\n",
        "print(\"Sum of all elements:\", sum_all_elements)\n",
        "\n",
        "# ii. Sum of all elements row-wise\n",
        "sum_row_wise = np.sum(gfg, axis=1)\n",
        "print(\"Sum of all elements row-wise:\", sum_row_wise)\n",
        "\n",
        "# iii. Sum of all elements column-wise\n",
        "sum_column_wise = np.sum(gfg, axis=0)\n",
        "print(\"Sum of all elements column-wise:\", sum_column_wise)"
      ],
      "metadata": {
        "colab": {
          "base_uri": "https://localhost:8080/"
        },
        "id": "n2JIcnNeD6Ho",
        "outputId": "b279929e-865e-4140-de00-68ff8aa95a72"
      },
      "execution_count": null,
      "outputs": [
        {
          "output_type": "stream",
          "name": "stdout",
          "text": [
            "Sum of all elements: 45\n",
            "Sum of all elements row-wise: [[14]\n",
            " [16]\n",
            " [15]]\n",
            "Sum of all elements column-wise: [[20  9 16]]\n"
          ]
        }
      ]
    },
    {
      "cell_type": "markdown",
      "source": [
        "  (f) For the matrix: n_array = np.array([[55, 25, 15],[30, 44, 2],[11, 45, 77]]), find\n",
        "i. Sum of diagonal elements\n",
        "ii. Eigen values of matrix\n",
        "iii. Eigen vectors of matrix\n",
        "iv. Inverse of matrix\n",
        "v. Determinant of matrix"
      ],
      "metadata": {
        "id": "oRD63y_EEBzf"
      }
    },
    {
      "cell_type": "code",
      "source": [
        "import numpy as np\n",
        "\n",
        "# Define the matrix\n",
        "n_array = np.array([[55, 25, 15], [30, 44, 2], [11, 45, 77]])\n",
        "\n",
        "# i. Sum of diagonal elements\n",
        "sum_diagonal = np.trace(n_array)\n",
        "print(\"Sum of diagonal elements:\", sum_diagonal)\n",
        "\n",
        "# ii. Eigenvalues of the matrix\n",
        "eigenvalues, _ = np.linalg.eig(n_array)\n",
        "print(\"Eigenvalues of the matrix:\", eigenvalues)\n",
        "\n",
        "# iii. Eigenvectors of the matrix\n",
        "eigenvalues, eigenvectors = np.linalg.eig(n_array)\n",
        "print(\"Eigenvectors of the matrix:\\n\", eigenvectors)\n",
        "\n",
        "# iv. Inverse of the matrix\n",
        "inverse_matrix = np.linalg.inv(n_array)\n",
        "print(\"Inverse of the matrix:\\n\", inverse_matrix)\n",
        "\n",
        "# v. Determinant of the matrix\n",
        "determinant = np.linalg.det(n_array)\n",
        "print(\"Determinant of the matrix:\", determinant)\n"
      ],
      "metadata": {
        "colab": {
          "base_uri": "https://localhost:8080/"
        },
        "id": "iXm63p7YECTv",
        "outputId": "c0d6a1b6-3e53-4b8c-e1a2-0bf58bad8b9a"
      },
      "execution_count": null,
      "outputs": [
        {
          "output_type": "stream",
          "name": "stdout",
          "text": [
            "Sum of diagonal elements: 176\n",
            "Eigenvalues of the matrix: [98.16835147 28.097044   49.73460452]\n",
            "Eigenvectors of the matrix:\n",
            " [[ 0.4574917   0.34637121 -0.15017693]\n",
            " [ 0.28447814 -0.72784061 -0.4852124 ]\n",
            " [ 0.84248058  0.59184038  0.8614034 ]]\n",
            "Inverse of the matrix:\n",
            " [[ 0.02404141 -0.00911212 -0.00444671]\n",
            " [-0.01667882  0.02966905  0.0024785 ]\n",
            " [ 0.00631287 -0.01603732  0.01217379]]\n",
            "Determinant of the matrix: 137180.0000000001\n"
          ]
        }
      ]
    },
    {
      "cell_type": "markdown",
      "source": [
        "(g) Multiply the following matrices and also find covariance between matrices using NumPy:\n",
        "i. p = [[1, 2], [2, 3]]\n",
        "q = [[4, 5], [6, 7]]\n",
        "ii. p = [[1, 2], [2, 3], [4, 5]]\n",
        "q = [[4, 5, 1], [6, 7, 2]]\n"
      ],
      "metadata": {
        "id": "0ezZixlEECkf"
      }
    },
    {
      "cell_type": "code",
      "source": [
        "import numpy as np\n",
        "\n",
        "# Define matrices p and q\n",
        "p = np.array([[1, 2], [2, 3]])\n",
        "q = np.array([[4, 5], [6, 7]])\n",
        "\n",
        "# Matrix multiplication\n",
        "product = np.dot(p, q)\n",
        "print(\"Product of p and q:\\n\", product)\n",
        "\n",
        "# Flatten matrices\n",
        "p_flat = p.flatten()\n",
        "q_flat = q.flatten()\n",
        "\n",
        "# Calculate covariance matrix\n",
        "cov_matrix = np.cov(p_flat, q_flat)\n",
        "print(\"Covariance matrix between flattened p and q:\\n\", cov_matrix)\n",
        "\n",
        "p = np.array([[1, 2], [2, 3], [4, 5]])\n",
        "q = np.array([[4, 5, 1], [6, 7, 2]])\n",
        "\n",
        "# Matrix multiplication\n",
        "product = np.dot(p, q)\n",
        "print(\"Product of p and q:\\n\", product)\n",
        "\n",
        "# Flatten matrices\n",
        "p_flat = p.flatten()\n",
        "q_flat = q.flatten()\n",
        "\n",
        "# Calculate covariance matrix\n",
        "cov_matrix = np.cov(p_flat, q_flat)\n",
        "print(\"Covariance matrix between flattened p and q:\\n\", cov_matrix)"
      ],
      "metadata": {
        "colab": {
          "base_uri": "https://localhost:8080/"
        },
        "id": "25zXsa-OEC9v",
        "outputId": "735ce36d-ba4e-4cb7-ebb6-804b208df4ec"
      },
      "execution_count": null,
      "outputs": [
        {
          "output_type": "stream",
          "name": "stdout",
          "text": [
            "Product of p and q:\n",
            " [[16 19]\n",
            " [26 31]]\n",
            "Covariance matrix between flattened p and q:\n",
            " [[0.66666667 1.        ]\n",
            " [1.         1.66666667]]\n",
            "Product of p and q:\n",
            " [[16 19  5]\n",
            " [26 31  8]\n",
            " [46 55 14]]\n",
            "Covariance matrix between flattened p and q:\n",
            " [[2.16666667 0.23333333]\n",
            " [0.23333333 5.36666667]]\n"
          ]
        }
      ]
    },
    {
      "cell_type": "markdown",
      "source": [
        "(h) For the matrices: x = np.array([[2, 3, 4], [3, 2, 9]]); y = np.array([[1, 5, 0], [5, 10, 3]]),\n",
        "find inner, outer and cartesian product?\n"
      ],
      "metadata": {
        "id": "2C_jI__HEJYH"
      }
    },
    {
      "cell_type": "code",
      "source": [
        "import numpy as np\n",
        "\n",
        "# Define the matrices\n",
        "x = np.array([[2, 3, 4], [3, 2, 9]])\n",
        "y = np.array([[1, 5, 0], [5, 10, 3]])\n",
        "\n",
        "# i. Inner Product\n",
        "inner_product = np.dot(x, y.T)  # Transpose y to align dimensions for multiplication\n",
        "print(\"Inner product:\\n\", inner_product)\n",
        "\n",
        "# ii. Outer Product\n",
        "x_flat = x.flatten()\n",
        "y_flat = y.flatten()\n",
        "outer_product = np.outer(x_flat, y_flat)\n",
        "print(\"Outer product:\\n\", outer_product)\n",
        "\n",
        "# iii. Cartesian Product\n",
        "X, Y = np.meshgrid(x_flat, y_flat)\n",
        "cartesian_product = np.vstack([X.ravel(), Y.ravel()]).T\n",
        "print(\"Cartesian product:\\n\", cartesian_product)\n"
      ],
      "metadata": {
        "colab": {
          "base_uri": "https://localhost:8080/"
        },
        "id": "evQRwDIQELkP",
        "outputId": "d3008af6-ce1e-4f00-f794-762d2a633628"
      },
      "execution_count": null,
      "outputs": [
        {
          "output_type": "stream",
          "name": "stdout",
          "text": [
            "Inner product:\n",
            " [[17 52]\n",
            " [13 62]]\n",
            "Outer product:\n",
            " [[ 2 10  0 10 20  6]\n",
            " [ 3 15  0 15 30  9]\n",
            " [ 4 20  0 20 40 12]\n",
            " [ 3 15  0 15 30  9]\n",
            " [ 2 10  0 10 20  6]\n",
            " [ 9 45  0 45 90 27]]\n",
            "Cartesian product:\n",
            " [[ 2  1]\n",
            " [ 3  1]\n",
            " [ 4  1]\n",
            " [ 3  1]\n",
            " [ 2  1]\n",
            " [ 9  1]\n",
            " [ 2  5]\n",
            " [ 3  5]\n",
            " [ 4  5]\n",
            " [ 3  5]\n",
            " [ 2  5]\n",
            " [ 9  5]\n",
            " [ 2  0]\n",
            " [ 3  0]\n",
            " [ 4  0]\n",
            " [ 3  0]\n",
            " [ 2  0]\n",
            " [ 9  0]\n",
            " [ 2  5]\n",
            " [ 3  5]\n",
            " [ 4  5]\n",
            " [ 3  5]\n",
            " [ 2  5]\n",
            " [ 9  5]\n",
            " [ 2 10]\n",
            " [ 3 10]\n",
            " [ 4 10]\n",
            " [ 3 10]\n",
            " [ 2 10]\n",
            " [ 9 10]\n",
            " [ 2  3]\n",
            " [ 3  3]\n",
            " [ 4  3]\n",
            " [ 3  3]\n",
            " [ 2  3]\n",
            " [ 9  3]]\n"
          ]
        }
      ]
    },
    {
      "cell_type": "markdown",
      "source": [
        "Q2: Based on NumPy Mathematics and Statistics\n",
        "\n",
        "(a) For the array: array = np.array([[1, -2, 3],[-4, 5, -6]])\n",
        "i. Find element-wise absolute value\n",
        "ii. Find the 25th, 50th, and 75th percentile of flattened array, for each column, for each\n",
        "row.\n",
        "iii. Mean, Median and Standard Deviation of flattened array, of each column, and\n",
        "each row\n",
        "\n",
        "(b) For the array: a = np.array([-1.8, -1.6, -0.5, 0.5,1.6, 1.8, 3.0]). Find floor, ceiling\n",
        "and truncated value, rounded values"
      ],
      "metadata": {
        "id": "JLsX-ZZbGmRg"
      }
    },
    {
      "cell_type": "code",
      "source": [
        "import numpy as np\n",
        "\n",
        "# Array for part (a)\n",
        "array = np.array([[1, -2, 3], [-4, 5, -6]])\n",
        "\n",
        "# (a) i. Element-wise absolute value\n",
        "absolute_array = np.abs(array)\n",
        "print(\"Element-wise absolute value:\\n\", absolute_array)\n",
        "\n",
        "# (a) ii. Percentiles\n",
        "percentiles_flattened = np.percentile(array.flatten(), [25, 50, 75])\n",
        "percentiles_columns = np.percentile(array, [25, 50, 75], axis=0)\n",
        "percentiles_rows = np.percentile(array, [25, 50, 75], axis=1)\n",
        "\n",
        "print(\"Percentiles of flattened array (25th, 50th, 75th):\", percentiles_flattened)\n",
        "print(\"Percentiles for each column (25th, 50th, 75th):\\n\", percentiles_columns)\n",
        "print(\"Percentiles for each row (25th, 50th, 75th):\\n\", percentiles_rows)\n",
        "\n",
        "# (a) iii. Mean, Median, and Standard Deviation\n",
        "mean_flattened = np.mean(array)\n",
        "median_flattened = np.median(array)\n",
        "std_dev_flattened = np.std(array)\n",
        "\n",
        "mean_columns = np.mean(array, axis=0)\n",
        "median_columns = np.median(array, axis=0)\n",
        "std_dev_columns = np.std(array, axis=0)\n",
        "\n",
        "mean_rows = np.mean(array, axis=1)\n",
        "median_rows = np.median(array, axis=1)\n",
        "std_dev_rows = np.std(array, axis=1)\n",
        "\n",
        "print(\"Mean of flattened array:\", mean_flattened)\n",
        "print(\"Median of flattened array:\", median_flattened)\n",
        "print(\"Standard deviation of flattened array:\", std_dev_flattened)\n",
        "\n",
        "print(\"Mean of each column:\", mean_columns)\n",
        "print(\"Median of each column:\", median_columns)\n",
        "print(\"Standard deviation of each column:\", std_dev_columns)\n",
        "\n",
        "print(\"Mean of each row:\", mean_rows)\n",
        "print(\"Median of each row:\", median_rows)\n",
        "print(\"Standard deviation of each row:\", std_dev_rows)\n",
        "\n",
        "# Array for part (b)\n",
        "a = np.array([-1.8, -1.6, -0.5, 0.5, 1.6, 1.8, 3.0])\n",
        "\n",
        "# (b) Floor, Ceiling, Truncated, and Rounded values\n",
        "floor_values = np.floor(a)\n",
        "ceiling_values = np.ceil(a)\n",
        "truncated_values = np.trunc(a)\n",
        "rounded_values = np.round(a)\n",
        "\n",
        "print(\"Floor values:\", floor_values)\n",
        "print(\"Ceiling values:\", ceiling_values)\n",
        "print(\"Truncated values:\", truncated_values)\n",
        "print(\"Rounded values:\", rounded_values)\n"
      ],
      "metadata": {
        "colab": {
          "base_uri": "https://localhost:8080/"
        },
        "id": "pCZcraGMHLlm",
        "outputId": "e126096d-439c-4057-877b-67c5ed6f8def"
      },
      "execution_count": null,
      "outputs": [
        {
          "output_type": "stream",
          "name": "stdout",
          "text": [
            "Element-wise absolute value:\n",
            " [[1 2 3]\n",
            " [4 5 6]]\n",
            "Percentiles of flattened array (25th, 50th, 75th): [-3.5 -0.5  2.5]\n",
            "Percentiles for each column (25th, 50th, 75th):\n",
            " [[-2.75 -0.25 -3.75]\n",
            " [-1.5   1.5  -1.5 ]\n",
            " [-0.25  3.25  0.75]]\n",
            "Percentiles for each row (25th, 50th, 75th):\n",
            " [[-0.5 -5. ]\n",
            " [ 1.  -4. ]\n",
            " [ 2.   0.5]]\n",
            "Mean of flattened array: -0.5\n",
            "Median of flattened array: -0.5\n",
            "Standard deviation of flattened array: 3.8622100754188224\n",
            "Mean of each column: [-1.5  1.5 -1.5]\n",
            "Median of each column: [-1.5  1.5 -1.5]\n",
            "Standard deviation of each column: [2.5 3.5 4.5]\n",
            "Mean of each row: [ 0.66666667 -1.66666667]\n",
            "Median of each row: [ 1. -4.]\n",
            "Standard deviation of each row: [2.05480467 4.78423336]\n",
            "Floor values: [-2. -2. -1.  0.  1.  1.  3.]\n",
            "Ceiling values: [-1. -1. -0.  1.  2.  2.  3.]\n",
            "Truncated values: [-1. -1. -0.  0.  1.  1.  3.]\n",
            "Rounded values: [-2. -2. -0.  0.  2.  2.  3.]\n"
          ]
        }
      ]
    },
    {
      "cell_type": "markdown",
      "source": [
        "Q3: Based on Searching and Sorting\n",
        "(a) For the array: array = np.array([10, 52, 62, 16, 16, 54, 453]), find\n",
        "i. Sorted array\n",
        "ii. Indices of sorted array\n",
        "iii. 4 smallest elements\n",
        "iv. 5 largest elements\n",
        "(b) For the array: array = np.array([1.0, 1.2, 2.2, 2.0, 3.0, 2.0]), find\n",
        "i. Integer elements only\n",
        "ii. Float elements only\n"
      ],
      "metadata": {
        "id": "6F40XHl5JE6m"
      }
    },
    {
      "cell_type": "code",
      "source": [
        "import numpy as np\n",
        "\n",
        "# (a) For the array [10, 52, 62, 16, 16, 54, 453]\n",
        "array = np.array([10, 52, 62, 16, 16, 54, 453])\n",
        "\n",
        "# i. Sorted array\n",
        "sorted_array = np.sort(array)\n",
        "print(\"Sorted array:\", sorted_array)\n",
        "\n",
        "# ii. Indices of sorted array\n",
        "indices_of_sorted_array = np.argsort(array)\n",
        "print(\"Indices of sorted array:\", indices_of_sorted_array)\n",
        "\n",
        "# iii. 4 smallest elements\n",
        "four_smallest_elements = np.partition(array, 4)[:4]\n",
        "print(\"4 smallest elements:\", four_smallest_elements)\n",
        "\n",
        "# iv. 5 largest elements\n",
        "five_largest_elements = np.partition(array, -5)[-5:]\n",
        "print(\"5 largest elements:\", five_largest_elements)\n",
        "\n",
        "# (b) For the array [1.0, 1.2, 2.2, 2.0, 3.0, 2.0]\n",
        "array = np.array([1.0, 1.2, 2.2, 2.0, 3.0, 2.0])\n",
        "\n",
        "# i. Integer elements only\n",
        "integer_elements = array[array.astype(int) == array]\n",
        "print(\"Integer elements only:\", integer_elements)\n",
        "\n",
        "# ii. Float elements only\n",
        "float_elements = array[array != array.astype(int)]\n",
        "print(\"Float elements only:\", float_elements)\n"
      ],
      "metadata": {
        "colab": {
          "base_uri": "https://localhost:8080/"
        },
        "id": "vpVG1VZ9I_4O",
        "outputId": "0d47c099-a2ee-47e4-85b2-60bc3b714a0c"
      },
      "execution_count": null,
      "outputs": [
        {
          "output_type": "stream",
          "name": "stdout",
          "text": [
            "Sorted array: [ 10  16  16  52  54  62 453]\n",
            "Indices of sorted array: [0 3 4 1 5 2 6]\n",
            "4 smallest elements: [16 10 16 52]\n",
            "5 largest elements: [ 16  52  62  54 453]\n",
            "Integer elements only: [1. 2. 3. 2.]\n",
            "Float elements only: [1.2 2.2]\n"
          ]
        }
      ]
    },
    {
      "cell_type": "markdown",
      "source": [
        "(a) Write a function named img_to_array(path) that reads an image from a specified path and\n",
        "save it as text file on local machine? (Note: use separate cases for RGB and Grey Scale\n",
        "images)\n"
      ],
      "metadata": {
        "id": "AOaiMUy9JM8m"
      }
    },
    {
      "cell_type": "code",
      "source": [
        "from PIL import Image\n",
        "import numpy as np\n",
        "\n",
        "def img_to_array(path):\n",
        "    # Open the image file\n",
        "    with Image.open(path) as img:\n",
        "        # Convert the image to a NumPy array\n",
        "        img_array = np.array(img)\n",
        "        print(img_array)\n",
        "\n",
        "        # Determine if the image is RGB or grayscale\n",
        "        if len(img_array.shape) == 3:\n",
        "            # RGB image\n",
        "            if img_array.shape[2] == 3:\n",
        "                # Save the RGB image array to a text file\n",
        "                np.savetxt('image_rgb.txt', img_array.reshape(-1, 3), fmt='%d', delimiter=',')\n",
        "                print(\"Saved RGB image data to 'image_rgb.txt'\")\n",
        "            elif img_array.shape[2] == 4:\n",
        "                # RGBA image (though not requested, for completeness)\n",
        "                np.savetxt('image_rgba.txt', img_array.reshape(-1, 4), fmt='%d', delimiter=',')\n",
        "                print(\"Saved RGBA image data to 'image_rgba.txt'\")\n",
        "        elif len(img_array.shape) == 2:\n",
        "            # Grayscale image\n",
        "            np.savetxt('image_grey.txt', img_array, fmt='%d', delimiter=',')\n",
        "            print(\"Saved grayscale image data to 'image_grey.txt'\")\n",
        "        else:\n",
        "            print(\"Unsupported image format.\")\n",
        "\n",
        "# Example usage:\n",
        "img_to_array('/content/Screenshot 2024-07-31 150903.png')\n"
      ],
      "metadata": {
        "colab": {
          "base_uri": "https://localhost:8080/"
        },
        "id": "1JODpSbXJzMt",
        "outputId": "e516b5de-9a7e-4236-e14d-ea08faad11b5"
      },
      "execution_count": null,
      "outputs": [
        {
          "output_type": "stream",
          "name": "stdout",
          "text": [
            "[[[255  10   4 255]\n",
            "  [255  10   6 255]\n",
            "  [255  10   6 255]\n",
            "  ...\n",
            "  [169  24  34 255]\n",
            "  [169  24  34 255]\n",
            "  [171  23  34 255]]\n",
            "\n",
            " [[254  10   5 255]\n",
            "  [253  11   6 255]\n",
            "  [253  11   6 255]\n",
            "  ...\n",
            "  [169  24  34 255]\n",
            "  [169  24  34 255]\n",
            "  [171  23  34 255]]\n",
            "\n",
            " [[253  11   6 255]\n",
            "  [253  11   6 255]\n",
            "  [252  11   6 255]\n",
            "  ...\n",
            "  [169  24  34 255]\n",
            "  [169  24  34 255]\n",
            "  [171  23  34 255]]\n",
            "\n",
            " ...\n",
            "\n",
            " [[242   4   9 255]\n",
            "  [243   5  10 255]\n",
            "  [243   5  10 255]\n",
            "  ...\n",
            "  [122  19  11 255]\n",
            "  [122  19  11 255]\n",
            "  [122  18  11 255]]\n",
            "\n",
            " [[242   4   9 255]\n",
            "  [243   5  10 255]\n",
            "  [243   5  10 255]\n",
            "  ...\n",
            "  [121  20  11 255]\n",
            "  [121  20  11 255]\n",
            "  [122  19  10 255]]\n",
            "\n",
            " [[242   4   9 255]\n",
            "  [243   5  10 255]\n",
            "  [243   5  10 255]\n",
            "  ...\n",
            "  [121  21  11 255]\n",
            "  [121  20  10 255]\n",
            "  [121  20  10 255]]]\n",
            "Saved RGBA image data to 'image_rgba.txt'\n"
          ]
        }
      ]
    }
  ]
}